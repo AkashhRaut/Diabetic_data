{
 "cells": [
  {
   "cell_type": "markdown",
   "id": "banned-documentary",
   "metadata": {},
   "source": [
    "### Logistic Regression - Diabetes Data"
   ]
  },
  {
   "cell_type": "code",
   "execution_count": 1,
   "id": "square-increase",
   "metadata": {},
   "outputs": [],
   "source": [
    "import pandas as pd\n",
    "import numpy as np\n",
    "\n",
    "from sklearn.model_selection import train_test_split\n",
    "\n",
    "from sklearn.linear_model import LogisticRegression\n",
    "\n",
    "from sklearn.metrics import accuracy_score, confusion_matrix, classification_report\n",
    "from sklearn.metrics import roc_auc_score, roc_curve\n",
    "import matplotlib.pyplot as plt\n",
    "import seaborn as sns\n",
    "\n",
    "import warnings\n",
    "warnings.filterwarnings(\"ignore\")"
   ]
  },
  {
   "cell_type": "markdown",
   "id": "usual-decision",
   "metadata": {},
   "source": [
    "### 1. Problem Statement"
   ]
  },
  {
   "cell_type": "raw",
   "id": "2f2b01d8",
   "metadata": {},
   "source": [
    "To predict whether the patient is having diabetes or not by using required features\n",
    "Features:\n",
    "    Glucose\n",
    "    BloodPressure\n",
    "    SkinThickness\n",
    "    Insulin\n",
    "    BMI\n",
    "    DiabetesPedigreeFunction\n",
    "    Age"
   ]
  },
  {
   "cell_type": "markdown",
   "id": "periodic-qualification",
   "metadata": {},
   "source": [
    "### 2. Data Gathering"
   ]
  },
  {
   "cell_type": "code",
   "execution_count": 2,
   "id": "interior-failing",
   "metadata": {},
   "outputs": [
    {
     "data": {
      "text/plain": [
       "Index(['Glucose', 'BloodPressure', 'SkinThickness', 'Insulin', 'BMI',\n",
       "       'DiabetesPedigreeFunction', 'Age', 'Outcome'],\n",
       "      dtype='object')"
      ]
     },
     "execution_count": 2,
     "metadata": {},
     "output_type": "execute_result"
    }
   ],
   "source": [
    "df = pd.read_csv('diabetes.csv')\n",
    "df.columns"
   ]
  },
  {
   "cell_type": "code",
   "execution_count": 3,
   "id": "active-columbia",
   "metadata": {},
   "outputs": [
    {
     "data": {
      "text/html": [
       "<div>\n",
       "<style scoped>\n",
       "    .dataframe tbody tr th:only-of-type {\n",
       "        vertical-align: middle;\n",
       "    }\n",
       "\n",
       "    .dataframe tbody tr th {\n",
       "        vertical-align: top;\n",
       "    }\n",
       "\n",
       "    .dataframe thead th {\n",
       "        text-align: right;\n",
       "    }\n",
       "</style>\n",
       "<table border=\"1\" class=\"dataframe\">\n",
       "  <thead>\n",
       "    <tr style=\"text-align: right;\">\n",
       "      <th></th>\n",
       "      <th>Glucose</th>\n",
       "      <th>BloodPressure</th>\n",
       "      <th>SkinThickness</th>\n",
       "      <th>Insulin</th>\n",
       "      <th>BMI</th>\n",
       "      <th>DiabetesPedigreeFunction</th>\n",
       "      <th>Age</th>\n",
       "      <th>Outcome</th>\n",
       "    </tr>\n",
       "  </thead>\n",
       "  <tbody>\n",
       "    <tr>\n",
       "      <th>0</th>\n",
       "      <td>148</td>\n",
       "      <td>50</td>\n",
       "      <td>35</td>\n",
       "      <td>0</td>\n",
       "      <td>33.6</td>\n",
       "      <td>0.627</td>\n",
       "      <td>50</td>\n",
       "      <td>1</td>\n",
       "    </tr>\n",
       "    <tr>\n",
       "      <th>1</th>\n",
       "      <td>85</td>\n",
       "      <td>66</td>\n",
       "      <td>29</td>\n",
       "      <td>0</td>\n",
       "      <td>26.6</td>\n",
       "      <td>0.351</td>\n",
       "      <td>31</td>\n",
       "      <td>0</td>\n",
       "    </tr>\n",
       "    <tr>\n",
       "      <th>2</th>\n",
       "      <td>183</td>\n",
       "      <td>64</td>\n",
       "      <td>0</td>\n",
       "      <td>0</td>\n",
       "      <td>23.3</td>\n",
       "      <td>0.672</td>\n",
       "      <td>52</td>\n",
       "      <td>1</td>\n",
       "    </tr>\n",
       "    <tr>\n",
       "      <th>3</th>\n",
       "      <td>150</td>\n",
       "      <td>66</td>\n",
       "      <td>23</td>\n",
       "      <td>94</td>\n",
       "      <td>28.1</td>\n",
       "      <td>0.167</td>\n",
       "      <td>21</td>\n",
       "      <td>0</td>\n",
       "    </tr>\n",
       "    <tr>\n",
       "      <th>4</th>\n",
       "      <td>150</td>\n",
       "      <td>40</td>\n",
       "      <td>35</td>\n",
       "      <td>168</td>\n",
       "      <td>43.1</td>\n",
       "      <td>2.288</td>\n",
       "      <td>33</td>\n",
       "      <td>1</td>\n",
       "    </tr>\n",
       "  </tbody>\n",
       "</table>\n",
       "</div>"
      ],
      "text/plain": [
       "   Glucose  BloodPressure  SkinThickness  Insulin   BMI   \n",
       "0      148             50             35        0  33.6  \\\n",
       "1       85             66             29        0  26.6   \n",
       "2      183             64              0        0  23.3   \n",
       "3      150             66             23       94  28.1   \n",
       "4      150             40             35      168  43.1   \n",
       "\n",
       "   DiabetesPedigreeFunction  Age  Outcome  \n",
       "0                     0.627   50        1  \n",
       "1                     0.351   31        0  \n",
       "2                     0.672   52        1  \n",
       "3                     0.167   21        0  \n",
       "4                     2.288   33        1  "
      ]
     },
     "execution_count": 3,
     "metadata": {},
     "output_type": "execute_result"
    }
   ],
   "source": [
    "df.head()"
   ]
  },
  {
   "cell_type": "code",
   "execution_count": 4,
   "id": "sacred-vacuum",
   "metadata": {},
   "outputs": [
    {
     "name": "stdout",
     "output_type": "stream",
     "text": [
      "<class 'pandas.core.frame.DataFrame'>\n",
      "RangeIndex: 768 entries, 0 to 767\n",
      "Data columns (total 8 columns):\n",
      " #   Column                    Non-Null Count  Dtype  \n",
      "---  ------                    --------------  -----  \n",
      " 0   Glucose                   768 non-null    int64  \n",
      " 1   BloodPressure             768 non-null    int64  \n",
      " 2   SkinThickness             768 non-null    int64  \n",
      " 3   Insulin                   768 non-null    int64  \n",
      " 4   BMI                       768 non-null    float64\n",
      " 5   DiabetesPedigreeFunction  768 non-null    float64\n",
      " 6   Age                       768 non-null    int64  \n",
      " 7   Outcome                   768 non-null    int64  \n",
      "dtypes: float64(2), int64(6)\n",
      "memory usage: 48.1 KB\n"
     ]
    }
   ],
   "source": [
    "df.info()"
   ]
  },
  {
   "cell_type": "markdown",
   "id": "derived-burst",
   "metadata": {},
   "source": [
    "### 3. EDA and Feature Engineering"
   ]
  },
  {
   "cell_type": "raw",
   "id": "a738c86d",
   "metadata": {},
   "source": [
    "1. Missing values\n",
    "2. Outliers\n",
    "3. Encoding\n",
    "4. Scaling\n",
    "5. Binning"
   ]
  },
  {
   "cell_type": "code",
   "execution_count": 5,
   "id": "sweet-perspective",
   "metadata": {},
   "outputs": [
    {
     "data": {
      "text/plain": [
       "Glucose                     0\n",
       "BloodPressure               0\n",
       "SkinThickness               0\n",
       "Insulin                     0\n",
       "BMI                         0\n",
       "DiabetesPedigreeFunction    0\n",
       "Age                         0\n",
       "Outcome                     0\n",
       "dtype: int64"
      ]
     },
     "execution_count": 5,
     "metadata": {},
     "output_type": "execute_result"
    }
   ],
   "source": [
    "df.isna().sum()"
   ]
  },
  {
   "cell_type": "code",
   "execution_count": 6,
   "id": "behind-roots",
   "metadata": {},
   "outputs": [
    {
     "name": "stdout",
     "output_type": "stream",
     "text": [
      "<class 'pandas.core.frame.DataFrame'>\n",
      "RangeIndex: 768 entries, 0 to 767\n",
      "Data columns (total 8 columns):\n",
      " #   Column                    Non-Null Count  Dtype  \n",
      "---  ------                    --------------  -----  \n",
      " 0   Glucose                   768 non-null    int64  \n",
      " 1   BloodPressure             768 non-null    int64  \n",
      " 2   SkinThickness             768 non-null    int64  \n",
      " 3   Insulin                   768 non-null    int64  \n",
      " 4   BMI                       768 non-null    float64\n",
      " 5   DiabetesPedigreeFunction  768 non-null    float64\n",
      " 6   Age                       768 non-null    int64  \n",
      " 7   Outcome                   768 non-null    int64  \n",
      "dtypes: float64(2), int64(6)\n",
      "memory usage: 48.1 KB\n"
     ]
    }
   ],
   "source": [
    "df.info()"
   ]
  },
  {
   "cell_type": "markdown",
   "id": "corresponding-twist",
   "metadata": {},
   "source": [
    "##### Target Column"
   ]
  },
  {
   "cell_type": "code",
   "execution_count": 7,
   "id": "married-demographic",
   "metadata": {},
   "outputs": [
    {
     "data": {
      "text/plain": [
       "0      1\n",
       "1      0\n",
       "2      1\n",
       "3      0\n",
       "4      1\n",
       "      ..\n",
       "763    0\n",
       "764    0\n",
       "765    0\n",
       "766    1\n",
       "767    0\n",
       "Name: Outcome, Length: 768, dtype: int64"
      ]
     },
     "execution_count": 7,
     "metadata": {},
     "output_type": "execute_result"
    }
   ],
   "source": [
    "df['Outcome']"
   ]
  },
  {
   "cell_type": "code",
   "execution_count": 8,
   "id": "portuguese-charm",
   "metadata": {},
   "outputs": [
    {
     "data": {
      "text/plain": [
       "Outcome\n",
       "0    500\n",
       "1    268\n",
       "Name: count, dtype: int64"
      ]
     },
     "execution_count": 8,
     "metadata": {},
     "output_type": "execute_result"
    }
   ],
   "source": [
    "df['Outcome'].value_counts()"
   ]
  },
  {
   "cell_type": "code",
   "execution_count": 9,
   "id": "ultimate-anderson",
   "metadata": {},
   "outputs": [
    {
     "data": {
      "text/plain": [
       "<Axes: xlabel='Outcome', ylabel='count'>"
      ]
     },
     "execution_count": 9,
     "metadata": {},
     "output_type": "execute_result"
    },
    {
     "data": {
      "image/png": "[encoded data removed]",
      "text/plain": [
       "<Figure size 640x480 with 1 Axes>"
      ]
     },
     "metadata": {},
     "output_type": "display_data"
    }
   ],
   "source": [
    "sns.countplot(x = df['Outcome'])"
   ]
  },
  {
   "cell_type": "markdown",
   "id": "instructional-favorite",
   "metadata": {},
   "source": [
    "### 4. Model Training "
   ]
  },
  {
   "cell_type": "markdown",
   "id": "partial-girlfriend",
   "metadata": {},
   "source": [
    "##### Train Test Split"
   ]
  },
  {
   "cell_type": "code",
   "execution_count": 10,
   "id": "promising-timeline",
   "metadata": {},
   "outputs": [],
   "source": [
    "x = df.drop('Outcome', axis = 1)\n",
    "y = df['Outcome']"
   ]
  },
  {
   "cell_type": "code",
   "execution_count": 11,
   "id": "settled-antenna",
   "metadata": {},
   "outputs": [
    {
     "data": {
      "text/plain": [
       "Outcome\n",
       "0    400\n",
       "1    214\n",
       "Name: count, dtype: int64"
      ]
     },
     "execution_count": 11,
     "metadata": {},
     "output_type": "execute_result"
    }
   ],
   "source": [
    "x_train, x_test, y_train, y_test = train_test_split(x, y,      \n",
    "                                test_size=0.2,                                                     \n",
    "                                random_state=1,\n",
    "                                stratify=y)\n",
    "y_train.value_counts()"
   ]
  },
  {
   "cell_type": "code",
   "execution_count": 13,
   "id": "pursuant-cyprus",
   "metadata": {},
   "outputs": [
    {
     "data": {
      "text/html": [
       "<style>#sk-container-id-1 {color: black;background-color: white;}#sk-container-id-1 pre{padding: 0;}#sk-container-id-1 div.sk-toggleable {background-color: white;}#sk-container-id-1 label.sk-toggleable__label {cursor: pointer;display: block;width: 100%;margin-bottom: 0;padding: 0.3em;box-sizing: border-box;text-align: center;}#sk-container-id-1 label.sk-toggleable__label-arrow:before {content: \"▸\";float: left;margin-right: 0.25em;color: #696969;}#sk-container-id-1 label.sk-toggleable__label-arrow:hover:before {color: black;}#sk-container-id-1 div.sk-estimator:hover label.sk-toggleable__label-arrow:before {color: black;}#sk-container-id-1 div.sk-toggleable__content {max-height: 0;max-width: 0;overflow: hidden;text-align: left;background-color: #f0f8ff;}#sk-container-id-1 div.sk-toggleable__content pre {margin: 0.2em;color: black;border-radius: 0.25em;background-color: #f0f8ff;}#sk-container-id-1 input.sk-toggleable__control:checked~div.sk-toggleable__content {max-height: 200px;max-width: 100%;overflow: auto;}#sk-container-id-1 input.sk-toggleable__control:checked~label.sk-toggleable__label-arrow:before {content: \"▾\";}#sk-container-id-1 div.sk-estimator input.sk-toggleable__control:checked~label.sk-toggleable__label {background-color: #d4ebff;}#sk-container-id-1 div.sk-label input.sk-toggleable__control:checked~label.sk-toggleable__label {background-color: #d4ebff;}#sk-container-id-1 input.sk-hidden--visually {border: 0;clip: rect(1px 1px 1px 1px);clip: rect(1px, 1px, 1px, 1px);height: 1px;margin: -1px;overflow: hidden;padding: 0;position: absolute;width: 1px;}#sk-container-id-1 div.sk-estimator {font-family: monospace;background-color: #f0f8ff;border: 1px dotted black;border-radius: 0.25em;box-sizing: border-box;margin-bottom: 0.5em;}#sk-container-id-1 div.sk-estimator:hover {background-color: #d4ebff;}#sk-container-id-1 div.sk-parallel-item::after {content: \"\";width: 100%;border-bottom: 1px solid gray;flex-grow: 1;}#sk-container-id-1 div.sk-label:hover label.sk-toggleable__label {background-color: #d4ebff;}#sk-container-id-1 div.sk-serial::before {content: \"\";position: absolute;border-left: 1px solid gray;box-sizing: border-box;top: 0;bottom: 0;left: 50%;z-index: 0;}#sk-container-id-1 div.sk-serial {display: flex;flex-direction: column;align-items: center;background-color: white;padding-right: 0.2em;padding-left: 0.2em;position: relative;}#sk-container-id-1 div.sk-item {position: relative;z-index: 1;}#sk-container-id-1 div.sk-parallel {display: flex;align-items: stretch;justify-content: center;background-color: white;position: relative;}#sk-container-id-1 div.sk-item::before, #sk-container-id-1 div.sk-parallel-item::before {content: \"\";position: absolute;border-left: 1px solid gray;box-sizing: border-box;top: 0;bottom: 0;left: 50%;z-index: -1;}#sk-container-id-1 div.sk-parallel-item {display: flex;flex-direction: column;z-index: 1;position: relative;background-color: white;}#sk-container-id-1 div.sk-parallel-item:first-child::after {align-self: flex-end;width: 50%;}#sk-container-id-1 div.sk-parallel-item:last-child::after {align-self: flex-start;width: 50%;}#sk-container-id-1 div.sk-parallel-item:only-child::after {width: 0;}#sk-container-id-1 div.sk-dashed-wrapped {border: 1px dashed gray;margin: 0 0.4em 0.5em 0.4em;box-sizing: border-box;padding-bottom: 0.4em;background-color: white;}#sk-container-id-1 div.sk-label label {font-family: monospace;font-weight: bold;display: inline-block;line-height: 1.2em;}#sk-container-id-1 div.sk-label-container {text-align: center;}#sk-container-id-1 div.sk-container {/* jupyter's `normalize.less` sets `[hidden] { display: none; }` but bootstrap.min.css set `[hidden] { display: none !important; }` so we also need the `!important` here to be able to override the default hidden behavior on the sphinx rendered scikit-learn.org. See: https://github.com/scikit-learn/scikit-learn/issues/21755 */display: inline-block !important;position: relative;}#sk-container-id-1 div.sk-text-repr-fallback {display: none;}</style><div id=\"sk-container-id-1\" class=\"sk-top-container\"><div class=\"sk-text-repr-fallback\"><pre>LogisticRegression()</pre><b>In a Jupyter environment, please rerun this cell to show the HTML representation or trust the notebook. <br />On GitHub, the HTML representation is unable to render, please try loading this page with nbviewer.org.</b></div><div class=\"sk-container\" hidden><div class=\"sk-item\"><div class=\"sk-estimator sk-toggleable\"><input class=\"sk-toggleable__control sk-hidden--visually\" id=\"sk-estimator-id-1\" type=\"checkbox\" checked><label for=\"sk-estimator-id-1\" class=\"sk-toggleable__label sk-toggleable__label-arrow\">LogisticRegression</label><div class=\"sk-toggleable__content\"><pre>LogisticRegression()</pre></div></div></div></div></div>"
      ],
      "text/plain": [
       "LogisticRegression()"
      ]
     },
     "execution_count": 13,
     "metadata": {},
     "output_type": "execute_result"
    }
   ],
   "source": [
    "logistic_clf = LogisticRegression()\n",
    "logistic_clf.fit(x_train, y_train)"
   ]
  },
  {
   "cell_type": "markdown",
   "id": "handed-donna",
   "metadata": {},
   "source": [
    "#### Model Evaluation"
   ]
  },
  {
   "cell_type": "code",
   "execution_count": 14,
   "id": "offshore-addition",
   "metadata": {},
   "outputs": [
    {
     "data": {
      "text/plain": [
       "0.7915309446254072"
      ]
     },
     "execution_count": 14,
     "metadata": {},
     "output_type": "execute_result"
    }
   ],
   "source": [
    "logistic_clf.score(x_train,y_train)"
   ]
  },
  {
   "cell_type": "code",
   "execution_count": 15,
   "id": "permanent-processing",
   "metadata": {},
   "outputs": [
    {
     "data": {
      "text/plain": [
       "0.7402597402597403"
      ]
     },
     "execution_count": 15,
     "metadata": {},
     "output_type": "execute_result"
    }
   ],
   "source": [
    "logistic_clf.score(x_test,y_test)"
   ]
  },
  {
   "cell_type": "code",
   "execution_count": 16,
   "id": "promotional-communication",
   "metadata": {},
   "outputs": [
    {
     "data": {
      "text/plain": [
       "array([0, 0, 0, 0, 0, 0, 0, 0, 1, 0, 0, 0, 1, 0, 0, 0, 0, 0, 0, 1, 1, 0,\n",
       "       0, 0, 0, 0, 0, 0, 0, 0, 0, 0, 0, 0, 1, 1, 0, 1, 0, 0, 0, 1, 0, 0,\n",
       "       0, 0, 0, 0, 1, 1, 0, 0, 1, 0, 0, 0, 0, 0, 1, 1, 0, 0, 0, 0, 1, 0,\n",
       "       0, 1, 0, 0, 1, 0, 0, 0, 1, 0, 1, 0, 0, 1, 0, 1, 1, 1, 0, 1, 0, 0,\n",
       "       1, 0, 1, 0, 0, 0, 0, 0, 0, 0, 1, 0, 0, 0, 0, 1, 0, 1, 1, 0, 0, 1,\n",
       "       0, 0, 0, 0, 1, 1, 0, 0, 1, 1, 0, 0, 0, 0, 0, 1, 0, 0, 1, 1, 1, 0,\n",
       "       0, 0, 0, 0, 1, 0, 0, 1, 0, 0, 0, 0, 0, 0, 0, 0, 0, 0, 1, 0, 1, 0],\n",
       "      dtype=int64)"
      ]
     },
     "execution_count": 16,
     "metadata": {},
     "output_type": "execute_result"
    }
   ],
   "source": [
    "y_pred = logistic_clf.predict(x_test)\n",
    "y_pred"
   ]
  },
  {
   "cell_type": "code",
   "execution_count": 18,
   "id": "sound-newspaper",
   "metadata": {},
   "outputs": [
    {
     "data": {
      "text/plain": [
       "Outcome\n",
       "0    100\n",
       "1     54\n",
       "Name: count, dtype: int64"
      ]
     },
     "execution_count": 18,
     "metadata": {},
     "output_type": "execute_result"
    }
   ],
   "source": [
    "y_test.value_counts()"
   ]
  },
  {
   "cell_type": "code",
   "execution_count": 17,
   "id": "martial-distance",
   "metadata": {},
   "outputs": [
    {
     "data": {
      "text/plain": [
       "array([[86, 14],\n",
       "       [26, 28]], dtype=int64)"
      ]
     },
     "execution_count": 17,
     "metadata": {},
     "output_type": "execute_result"
    }
   ],
   "source": [
    "confusion_matrix(y_test, y_pred)"
   ]
  },
  {
   "cell_type": "code",
   "execution_count": 19,
   "id": "ordinary-shirt",
   "metadata": {},
   "outputs": [
    {
     "name": "stdout",
     "output_type": "stream",
     "text": [
      "Classification Report :\n",
      "               precision    recall  f1-score   support\n",
      "\n",
      "           0       0.77      0.86      0.81       100\n",
      "           1       0.67      0.52      0.58        54\n",
      "\n",
      "    accuracy                           0.74       154\n",
      "   macro avg       0.72      0.69      0.70       154\n",
      "weighted avg       0.73      0.74      0.73       154\n",
      "\n"
     ]
    }
   ],
   "source": [
    "clf_report = classification_report(y_test, y_pred)\n",
    "print(\"Classification Report :\\n\",clf_report)"
   ]
  },
  {
   "cell_type": "markdown",
   "id": "484542cc",
   "metadata": {},
   "source": [
    "##### Positive Class"
   ]
  },
  {
   "cell_type": "code",
   "execution_count": 44,
   "id": "18b63be0",
   "metadata": {},
   "outputs": [],
   "source": [
    "TN = 86\n",
    "TP = 28\n",
    "FP = 14\n",
    "FN = 26"
   ]
  },
  {
   "cell_type": "code",
   "execution_count": 47,
   "id": "2532e990",
   "metadata": {},
   "outputs": [
    {
     "data": {
      "text/plain": [
       "0.6666666666666666"
      ]
     },
     "execution_count": 47,
     "metadata": {},
     "output_type": "execute_result"
    }
   ],
   "source": [
    "Precision = TP/(TP + FP)\n",
    "Precision"
   ]
  },
  {
   "cell_type": "code",
   "execution_count": 49,
   "id": "e0271604",
   "metadata": {},
   "outputs": [
    {
     "data": {
      "text/plain": [
       "0.5185185185185185"
      ]
     },
     "execution_count": 49,
     "metadata": {},
     "output_type": "execute_result"
    }
   ],
   "source": [
    "Recall = TP/(TP + FN)\n",
    "Recall"
   ]
  },
  {
   "cell_type": "code",
   "execution_count": 51,
   "id": "1c1f48ca",
   "metadata": {},
   "outputs": [
    {
     "data": {
      "text/plain": [
       "0.5833333333333334"
      ]
     },
     "execution_count": 51,
     "metadata": {},
     "output_type": "execute_result"
    }
   ],
   "source": [
    "F1_Score = (2 * Precision * Recall) / (Precision + Recall)\n",
    "F1_Score"
   ]
  },
  {
   "cell_type": "code",
   "execution_count": 53,
   "id": "04a8f91c",
   "metadata": {},
   "outputs": [
    {
     "data": {
      "text/plain": [
       "Outcome\n",
       "0    100\n",
       "1     54\n",
       "Name: count, dtype: int64"
      ]
     },
     "execution_count": 53,
     "metadata": {},
     "output_type": "execute_result"
    }
   ],
   "source": [
    "y_test.value_counts()"
   ]
  },
  {
   "cell_type": "markdown",
   "id": "c780191f",
   "metadata": {},
   "source": [
    "##### Negative Class "
   ]
  },
  {
   "cell_type": "code",
   "execution_count": null,
   "id": "ac4814bf",
   "metadata": {},
   "outputs": [],
   "source": [
    "TN = 86\n",
    "TP = 28\n",
    "FP = 14\n",
    "FN = 26"
   ]
  },
  {
   "cell_type": "code",
   "execution_count": 54,
   "id": "940e11a6",
   "metadata": {},
   "outputs": [
    {
     "data": {
      "text/plain": [
       "0.7678571428571429"
      ]
     },
     "execution_count": 54,
     "metadata": {},
     "output_type": "execute_result"
    }
   ],
   "source": [
    "Precision = TN/(TN + FN)\n",
    "Precision"
   ]
  },
  {
   "cell_type": "code",
   "execution_count": 55,
   "id": "b4cbff09",
   "metadata": {},
   "outputs": [
    {
     "data": {
      "text/plain": [
       "0.86"
      ]
     },
     "execution_count": 55,
     "metadata": {},
     "output_type": "execute_result"
    }
   ],
   "source": [
    "Recall = TN/(TN + FP)\n",
    "Recall"
   ]
  },
  {
   "cell_type": "code",
   "execution_count": 57,
   "id": "ee6507eb",
   "metadata": {},
   "outputs": [
    {
     "data": {
      "text/plain": [
       "0.8113207547169812"
      ]
     },
     "execution_count": 57,
     "metadata": {},
     "output_type": "execute_result"
    }
   ],
   "source": [
    "F1_Score = (2 * Precision * Recall) / (Precision + Recall)\n",
    "F1_Score"
   ]
  },
  {
   "cell_type": "code",
   "execution_count": 59,
   "id": "f2c35192",
   "metadata": {},
   "outputs": [
    {
     "name": "stdout",
     "output_type": "stream",
     "text": [
      "Classification Report :\n",
      "               precision    recall  f1-score   support\n",
      "\n",
      "           0       0.77      0.86      0.81       100\n",
      "           1       0.67      0.52      0.58        54\n",
      "\n",
      "    accuracy                           0.74       154\n",
      "   macro avg       0.72      0.69      0.70       154\n",
      "weighted avg       0.73      0.74      0.73       154\n",
      "\n"
     ]
    }
   ],
   "source": [
    "clf_report = classification_report(y_test, y_pred)\n",
    "print(\"Classification Report :\\n\",clf_report)"
   ]
  },
  {
   "cell_type": "code",
   "execution_count": 20,
   "id": "c82eee61",
   "metadata": {},
   "outputs": [
    {
     "name": "stdout",
     "output_type": "stream",
     "text": [
      "Confusion Matrix :\n",
      " [[86 14]\n",
      " [26 28]]\n",
      "**************************************************\n",
      "Classification Report :\n",
      "               precision    recall  f1-score   support\n",
      "\n",
      "           0       0.77      0.86      0.81       100\n",
      "           1       0.67      0.52      0.58        54\n",
      "\n",
      "    accuracy                           0.74       154\n",
      "   macro avg       0.72      0.69      0.70       154\n",
      "weighted avg       0.73      0.74      0.73       154\n",
      "\n",
      "**************************************************\n",
      "Accuracy :\n",
      " 0.7402597402597403\n",
      "**************************************************\n"
     ]
    }
   ],
   "source": [
    "# Evaluation on Testing Data\n",
    "\n",
    "y_pred = logistic_clf.predict(x_test)\n",
    "\n",
    "cnf_matrix = confusion_matrix(y_test, y_pred)\n",
    "print(\"Confusion Matrix :\\n\",cnf_matrix)\n",
    "print(\"*\"*50)\n",
    "\n",
    "clf_report = classification_report(y_test, y_pred)\n",
    "print(\"Classification Report :\\n\",clf_report)\n",
    "print(\"*\"*50)\n",
    "\n",
    "accuracy = accuracy_score(y_test, y_pred)\n",
    "print(\"Accuracy :\\n\",accuracy)\n",
    "print(\"*\"*50)\n"
   ]
  },
  {
   "cell_type": "code",
   "execution_count": 21,
   "id": "ba7992db",
   "metadata": {},
   "outputs": [
    {
     "name": "stdout",
     "output_type": "stream",
     "text": [
      "Confusion Matrix :\n",
      " [[359  41]\n",
      " [ 87 127]]\n",
      "**************************************************\n",
      "Classification Report :\n",
      "               precision    recall  f1-score   support\n",
      "\n",
      "           0       0.80      0.90      0.85       400\n",
      "           1       0.76      0.59      0.66       214\n",
      "\n",
      "    accuracy                           0.79       614\n",
      "   macro avg       0.78      0.75      0.76       614\n",
      "weighted avg       0.79      0.79      0.78       614\n",
      "\n",
      "**************************************************\n",
      "Accuracy :\n",
      " 0.7915309446254072\n",
      "**************************************************\n"
     ]
    }
   ],
   "source": [
    "# Evaluation on Training Data\n",
    "\n",
    "y_pred_train = logistic_clf.predict(x_train)\n",
    "\n",
    "cnf_matrix = confusion_matrix(y_train, y_pred_train)\n",
    "print(\"Confusion Matrix :\\n\",cnf_matrix)\n",
    "print(\"*\"*50)\n",
    "\n",
    "clf_report = classification_report(y_train, y_pred_train)\n",
    "print(\"Classification Report :\\n\",clf_report)\n",
    "print(\"*\"*50)\n",
    "\n",
    "accuracy = accuracy_score(y_train, y_pred_train)\n",
    "print(\"Accuracy :\\n\",accuracy)\n",
    "print(\"*\"*50)"
   ]
  },
  {
   "cell_type": "code",
   "execution_count": 108,
   "id": "44842565",
   "metadata": {},
   "outputs": [],
   "source": [
    "TP = 127\n",
    "TN = 359\n",
    "FP = 41\n",
    "FN = 87"
   ]
  },
  {
   "cell_type": "code",
   "execution_count": 110,
   "id": "49792034",
   "metadata": {},
   "outputs": [
    {
     "data": {
      "text/plain": [
       "0.5934579439252337"
      ]
     },
     "execution_count": 110,
     "metadata": {},
     "output_type": "execute_result"
    }
   ],
   "source": [
    "TPR = TP/(TP+FN)\n",
    "TPR"
   ]
  },
  {
   "cell_type": "code",
   "execution_count": 111,
   "id": "dd0fd51c",
   "metadata": {},
   "outputs": [
    {
     "data": {
      "text/plain": [
       "0.1025"
      ]
     },
     "execution_count": 111,
     "metadata": {},
     "output_type": "execute_result"
    }
   ],
   "source": [
    "FPR = FP/(FP+TN)\n",
    "FPR"
   ]
  },
  {
   "cell_type": "markdown",
   "id": "7cfb6687",
   "metadata": {},
   "source": [
    "### ROC Curve"
   ]
  },
  {
   "cell_type": "code",
   "execution_count": 85,
   "id": "2cf70f1c",
   "metadata": {},
   "outputs": [
    {
     "data": {
      "text/plain": [
       "array([[0.68127273, 0.31872727],\n",
       "       [0.18556568, 0.81443432],\n",
       "       [0.86075534, 0.13924466],\n",
       "       ...,\n",
       "       [0.44005473, 0.55994527],\n",
       "       [0.52849612, 0.47150388],\n",
       "       [0.03185441, 0.96814559]])"
      ]
     },
     "execution_count": 85,
     "metadata": {},
     "output_type": "execute_result"
    }
   ],
   "source": [
    "logistic_clf.predict_proba(x_train)"
   ]
  },
  {
   "cell_type": "code",
   "execution_count": 91,
   "id": "288903d4",
   "metadata": {},
   "outputs": [
    {
     "data": {
      "text/plain": [
       "(614, 2)"
      ]
     },
     "execution_count": 91,
     "metadata": {},
     "output_type": "execute_result"
    }
   ],
   "source": [
    "logistic_clf.predict_proba(x_train).shape"
   ]
  },
  {
   "cell_type": "code",
   "execution_count": 93,
   "id": "9e248111",
   "metadata": {},
   "outputs": [
    {
     "data": {
      "text/plain": [
       "array([[0.68127273, 0.31872727],\n",
       "       [0.18556568, 0.81443432],\n",
       "       [0.86075534, 0.13924466],\n",
       "       ...,\n",
       "       [0.44005473, 0.55994527],\n",
       "       [0.52849612, 0.47150388],\n",
       "       [0.03185441, 0.96814559]])"
      ]
     },
     "execution_count": 93,
     "metadata": {},
     "output_type": "execute_result"
    }
   ],
   "source": [
    "y_pred_train_prob = logistic_clf.predict_proba(x_train)\n",
    "y_pred_train_prob"
   ]
  },
  {
   "cell_type": "code",
   "execution_count": null,
   "id": "7aa8e38a",
   "metadata": {},
   "outputs": [],
   "source": [
    "[0.44005473, 0.55994527], >> Class1\n",
    "[0.52849612, 0.47150388], >> Class0\n",
    "[0.03185441, 0.96814559]] >> Class1"
   ]
  },
  {
   "cell_type": "code",
   "execution_count": 94,
   "id": "420ae285",
   "metadata": {},
   "outputs": [
    {
     "data": {
      "text/plain": [
       "83     0\n",
       "255    1\n",
       "286    0\n",
       "560    1\n",
       "389    0\n",
       "Name: Outcome, dtype: int64"
      ]
     },
     "execution_count": 94,
     "metadata": {},
     "output_type": "execute_result"
    }
   ],
   "source": [
    "y_test[50:55]"
   ]
  },
  {
   "cell_type": "code",
   "execution_count": 95,
   "id": "b925832b",
   "metadata": {},
   "outputs": [
    {
     "data": {
      "text/plain": [
       "array([[0.53438445, 0.46561555],\n",
       "       [0.73966545, 0.26033455],\n",
       "       [0.09947603, 0.90052397],\n",
       "       [0.93799112, 0.06200888],\n",
       "       [0.57450824, 0.42549176]])"
      ]
     },
     "execution_count": 95,
     "metadata": {},
     "output_type": "execute_result"
    }
   ],
   "source": [
    "y_pred_train_prob[50:55]"
   ]
  },
  {
   "cell_type": "code",
   "execution_count": null,
   "id": "05338dd0",
   "metadata": {},
   "outputs": [],
   "source": [
    "[0.53438445, 0.46561555] >> Class0\n",
    "[0.73966545, 0.26033455] >> Class0\n",
    "[0.09947603, 0.90052397] >> Class1\n",
    "[0.93799112, 0.06200888] >> Class0\n",
    "[0.57450824, 0.42549176] >> Class0\n",
    "\n",
    "y_pred_train = [0 0 1 0 0]"
   ]
  },
  {
   "cell_type": "code",
   "execution_count": null,
   "id": "0e312776",
   "metadata": {},
   "outputs": [],
   "source": [
    "Class0 Prob     Prediction\n",
    "[0.46561555] >> Class0\n",
    "[0.26033455] >> Class0\n",
    "[0.90052397] >> Class1\n",
    "[0.06200888] >> Class0\n",
    "[0.42549176] >> Class0\n",
    "\n",
    "y_pred_train = [0 0 1 0 0]"
   ]
  },
  {
   "cell_type": "code",
   "execution_count": 97,
   "id": "89a8e835",
   "metadata": {},
   "outputs": [
    {
     "data": {
      "text/plain": [
       "array([0, 0, 1, 0, 0], dtype=int64)"
      ]
     },
     "execution_count": 97,
     "metadata": {},
     "output_type": "execute_result"
    }
   ],
   "source": [
    "y_pred_train[50:55]"
   ]
  },
  {
   "cell_type": "code",
   "execution_count": 100,
   "id": "fc7480ea",
   "metadata": {},
   "outputs": [],
   "source": [
    "# y_pred_train_prob[:,1]"
   ]
  },
  {
   "cell_type": "code",
   "execution_count": 102,
   "id": "7519dd3b",
   "metadata": {},
   "outputs": [
    {
     "data": {
      "text/plain": [
       "array([0.    , 0.    , 0.0025, 0.0025, 0.005 , 0.005 , 0.0075, 0.0075,\n",
       "       0.01  , 0.01  , 0.0125, 0.0125, 0.015 , 0.015 , 0.02  , 0.02  ,\n",
       "       0.0225, 0.0225, 0.0275, 0.0275, 0.03  , 0.03  , 0.0325, 0.0325,\n",
       "       0.035 , 0.035 , 0.045 , 0.045 , 0.0475, 0.0475, 0.05  , 0.05  ,\n",
       "       0.0525, 0.0525, 0.0575, 0.0575, 0.06  , 0.06  , 0.0625, 0.0625,\n",
       "       0.0725, 0.0725, 0.075 , 0.075 , 0.0775, 0.0775, 0.085 , 0.085 ,\n",
       "       0.0875, 0.0875, 0.09  , 0.09  , 0.0925, 0.0925, 0.095 , 0.095 ,\n",
       "       0.0975, 0.0975, 0.1   , 0.1   , 0.1025, 0.1025, 0.11  , 0.11  ,\n",
       "       0.1125, 0.1125, 0.1175, 0.1175, 0.1225, 0.1225, 0.125 , 0.125 ,\n",
       "       0.1475, 0.1475, 0.1525, 0.1525, 0.1575, 0.1575, 0.1625, 0.1625,\n",
       "       0.17  , 0.17  , 0.1725, 0.1725, 0.175 , 0.175 , 0.1825, 0.1825,\n",
       "       0.185 , 0.185 , 0.1925, 0.1925, 0.195 , 0.195 , 0.1975, 0.1975,\n",
       "       0.2025, 0.2025, 0.21  , 0.21  , 0.22  , 0.22  , 0.245 , 0.245 ,\n",
       "       0.2575, 0.2575, 0.26  , 0.26  , 0.2675, 0.2675, 0.27  , 0.27  ,\n",
       "       0.275 , 0.275 , 0.285 , 0.285 , 0.2875, 0.2875, 0.2925, 0.2925,\n",
       "       0.3   , 0.3   , 0.305 , 0.305 , 0.3075, 0.3075, 0.32  , 0.32  ,\n",
       "       0.3275, 0.3275, 0.33  , 0.33  , 0.335 , 0.335 , 0.3375, 0.3375,\n",
       "       0.345 , 0.345 , 0.3575, 0.3575, 0.39  , 0.39  , 0.4   , 0.4   ,\n",
       "       0.41  , 0.41  , 0.4125, 0.4125, 0.445 , 0.445 , 0.455 , 0.455 ,\n",
       "       0.4675, 0.4675, 0.515 , 0.515 , 0.5175, 0.5175, 0.52  , 0.52  ,\n",
       "       0.535 , 0.535 , 0.5375, 0.5375, 0.605 , 0.605 , 0.6075, 0.6075,\n",
       "       0.63  , 0.63  , 0.6375, 0.6375, 0.67  , 0.67  , 0.68  , 0.68  ,\n",
       "       0.6825, 0.6825, 0.6975, 0.6975, 0.7075, 0.7075, 0.92  , 0.92  ,\n",
       "       0.975 , 0.975 , 0.99  , 0.99  , 1.    ])"
      ]
     },
     "execution_count": 102,
     "metadata": {},
     "output_type": "execute_result"
    }
   ],
   "source": [
    "fpr, tpr, thresh = roc_curve(y_train, y_pred_train_prob[:,1])\n",
    "fpr"
   ]
  },
  {
   "cell_type": "code",
   "execution_count": 104,
   "id": "00c99f84",
   "metadata": {},
   "outputs": [
    {
     "data": {
      "text/plain": [
       "array([0.        , 0.0046729 , 0.0046729 , 0.02336449, 0.02336449,\n",
       "       0.05140187, 0.05140187, 0.07476636, 0.07476636, 0.20093458,\n",
       "       0.20093458, 0.20560748, 0.20560748, 0.21028037, 0.21028037,\n",
       "       0.23364486, 0.23364486, 0.23831776, 0.23831776, 0.25700935,\n",
       "       0.25700935, 0.27570093, 0.27570093, 0.28037383, 0.28037383,\n",
       "       0.30841121, 0.30841121, 0.34579439, 0.34579439, 0.35046729,\n",
       "       0.35046729, 0.36448598, 0.36448598, 0.36915888, 0.36915888,\n",
       "       0.37850467, 0.37850467, 0.42523364, 0.42523364, 0.42990654,\n",
       "       0.42990654, 0.44392523, 0.44392523, 0.45327103, 0.45327103,\n",
       "       0.47196262, 0.47196262, 0.50934579, 0.50934579, 0.51401869,\n",
       "       0.51401869, 0.51869159, 0.51869159, 0.52803738, 0.52803738,\n",
       "       0.56074766, 0.56074766, 0.57943925, 0.57943925, 0.58411215,\n",
       "       0.58411215, 0.59813084, 0.59813084, 0.60280374, 0.60280374,\n",
       "       0.60747664, 0.60747664, 0.61214953, 0.61214953, 0.62616822,\n",
       "       0.62616822, 0.63551402, 0.63551402, 0.64018692, 0.64018692,\n",
       "       0.6588785 , 0.6588785 , 0.6635514 , 0.6635514 , 0.6682243 ,\n",
       "       0.6682243 , 0.6728972 , 0.6728972 , 0.68224299, 0.68224299,\n",
       "       0.68691589, 0.68691589, 0.69626168, 0.69626168, 0.70560748,\n",
       "       0.70560748, 0.71028037, 0.71028037, 0.71495327, 0.71495327,\n",
       "       0.71962617, 0.71962617, 0.72429907, 0.72429907, 0.72897196,\n",
       "       0.72897196, 0.74766355, 0.74766355, 0.75700935, 0.75700935,\n",
       "       0.76168224, 0.76168224, 0.76635514, 0.76635514, 0.77102804,\n",
       "       0.77102804, 0.77570093, 0.77570093, 0.78971963, 0.78971963,\n",
       "       0.79439252, 0.79439252, 0.79906542, 0.79906542, 0.80373832,\n",
       "       0.80373832, 0.80841121, 0.80841121, 0.81775701, 0.81775701,\n",
       "       0.82242991, 0.82242991, 0.8317757 , 0.8317757 , 0.8364486 ,\n",
       "       0.8364486 , 0.8411215 , 0.8411215 , 0.84579439, 0.84579439,\n",
       "       0.85046729, 0.85046729, 0.85514019, 0.85514019, 0.85981308,\n",
       "       0.85981308, 0.86915888, 0.86915888, 0.87383178, 0.87383178,\n",
       "       0.88317757, 0.88317757, 0.88785047, 0.88785047, 0.89719626,\n",
       "       0.89719626, 0.90654206, 0.90654206, 0.91588785, 0.91588785,\n",
       "       0.92056075, 0.92056075, 0.92523364, 0.92523364, 0.92990654,\n",
       "       0.92990654, 0.93457944, 0.93457944, 0.93925234, 0.93925234,\n",
       "       0.94392523, 0.94392523, 0.94859813, 0.94859813, 0.95794393,\n",
       "       0.95794393, 0.96261682, 0.96261682, 0.96728972, 0.96728972,\n",
       "       0.97196262, 0.97196262, 0.97663551, 0.97663551, 0.98130841,\n",
       "       0.98130841, 0.98598131, 0.98598131, 0.99065421, 0.99065421,\n",
       "       0.9953271 , 0.9953271 , 1.        , 1.        ])"
      ]
     },
     "execution_count": 104,
     "metadata": {},
     "output_type": "execute_result"
    }
   ],
   "source": [
    "tpr"
   ]
  },
  {
   "cell_type": "code",
   "execution_count": 115,
   "id": "845c7993",
   "metadata": {},
   "outputs": [
    {
     "data": {
      "text/plain": [
       "0.49939637048706514"
      ]
     },
     "execution_count": 115,
     "metadata": {},
     "output_type": "execute_result"
    }
   ],
   "source": [
    "np.where(np.around(thresh,3) == 0.499)\n",
    "thresh[61]"
   ]
  },
  {
   "cell_type": "code",
   "execution_count": 116,
   "id": "1b8bded3",
   "metadata": {},
   "outputs": [
    {
     "data": {
      "text/plain": [
       "0.5981308411214953"
      ]
     },
     "execution_count": 116,
     "metadata": {},
     "output_type": "execute_result"
    }
   ],
   "source": [
    "tpr[61]"
   ]
  },
  {
   "cell_type": "code",
   "execution_count": 117,
   "id": "b773abc4",
   "metadata": {},
   "outputs": [
    {
     "data": {
      "text/plain": [
       "0.1025"
      ]
     },
     "execution_count": 117,
     "metadata": {},
     "output_type": "execute_result"
    }
   ],
   "source": [
    "fpr[61]"
   ]
  },
  {
   "cell_type": "code",
   "execution_count": 122,
   "id": "afa30e30",
   "metadata": {},
   "outputs": [
    {
     "data": {
      "image/png": "[encoded data removed]",
      "text/plain": [
       "<Figure size 700x500 with 1 Axes>"
      ]
     },
     "metadata": {},
     "output_type": "display_data"
    }
   ],
   "source": [
    "plt.figure(figsize=(7,5))\n",
    "plt.title(\"ROC Curve\")\n",
    "plt.plot(fpr, tpr)\n",
    "plt.xlabel(\"False Positive Rate (FPR)\")\n",
    "plt.ylabel(\"True Positive Rate (TPR)\")\n",
    "plt.savefig(\"ROC_Curve.png\")"
   ]
  },
  {
   "cell_type": "code",
   "execution_count": 126,
   "id": "c8bd136e",
   "metadata": {},
   "outputs": [],
   "source": [
    "x = 0.9158"
   ]
  },
  {
   "cell_type": "code",
   "execution_count": 129,
   "id": "29e05251",
   "metadata": {},
   "outputs": [
    {
     "data": {
      "text/plain": [
       "(array([153, 154, 155, 156, 157, 158, 159, 160, 161, 162, 163, 164, 165,\n",
       "        166, 167, 168, 169, 170, 171, 172, 173, 174, 175, 176, 177, 178,\n",
       "        179, 180, 181, 182, 183, 184, 185, 186, 187, 188], dtype=int64),)"
      ]
     },
     "execution_count": 129,
     "metadata": {},
     "output_type": "execute_result"
    }
   ],
   "source": [
    "tpr\n",
    "np.where(tpr> x)"
   ]
  },
  {
   "cell_type": "code",
   "execution_count": 131,
   "id": "1406bcfb",
   "metadata": {},
   "outputs": [
    {
     "data": {
      "text/plain": [
       "0.9158878504672897"
      ]
     },
     "execution_count": 131,
     "metadata": {},
     "output_type": "execute_result"
    }
   ],
   "source": [
    "tpr[153]"
   ]
  },
  {
   "cell_type": "code",
   "execution_count": 133,
   "id": "a3c3ae1f",
   "metadata": {},
   "outputs": [
    {
     "data": {
      "text/plain": [
       "0.4675"
      ]
     },
     "execution_count": 133,
     "metadata": {},
     "output_type": "execute_result"
    }
   ],
   "source": [
    "fpr[153]"
   ]
  },
  {
   "cell_type": "code",
   "execution_count": 135,
   "id": "76110677",
   "metadata": {},
   "outputs": [
    {
     "data": {
      "text/plain": [
       "0.19955318584783607"
      ]
     },
     "execution_count": 135,
     "metadata": {},
     "output_type": "execute_result"
    }
   ],
   "source": [
    "thresh[153]"
   ]
  },
  {
   "cell_type": "code",
   "execution_count": 142,
   "id": "2f537b5f",
   "metadata": {},
   "outputs": [
    {
     "data": {
      "text/plain": [
       "0.9183601085064717"
      ]
     },
     "execution_count": 142,
     "metadata": {},
     "output_type": "execute_result"
    }
   ],
   "source": [
    "y_pred_train_prob[:,1][78]"
   ]
  },
  {
   "cell_type": "code",
   "execution_count": 148,
   "id": "327943b1",
   "metadata": {},
   "outputs": [
    {
     "name": "stdout",
     "output_type": "stream",
     "text": [
      "Predicted prob is : 0.11204222614435623\n",
      "Predicted Class is : Class0\n"
     ]
    }
   ],
   "source": [
    "# y_pred_train_prob[:,1]\n",
    "\n",
    "def get_pred_class(threshold, pred_prob):\n",
    "    print(\"Predicted prob is :\",pred_prob)\n",
    "    if pred_prob >= threshold:\n",
    "        return \"Class1\"\n",
    "    \n",
    "    else:\n",
    "        return \"Class0\"\n",
    "\n",
    "threshold = thresh[153] # 0.199\n",
    "\n",
    "pred_class = get_pred_class(threshold, y_pred_train_prob[:,1][200])\n",
    "print(\"Predicted Class is :\",pred_class)"
   ]
  },
  {
   "cell_type": "markdown",
   "id": "878ba7c0",
   "metadata": {},
   "source": [
    "### Prediction on Single Row"
   ]
  },
  {
   "cell_type": "code",
   "execution_count": 22,
   "id": "701726a8",
   "metadata": {},
   "outputs": [
    {
     "data": {
      "text/html": [
       "<div>\n",
       "<style scoped>\n",
       "    .dataframe tbody tr th:only-of-type {\n",
       "        vertical-align: middle;\n",
       "    }\n",
       "\n",
       "    .dataframe tbody tr th {\n",
       "        vertical-align: top;\n",
       "    }\n",
       "\n",
       "    .dataframe thead th {\n",
       "        text-align: right;\n",
       "    }\n",
       "</style>\n",
       "<table border=\"1\" class=\"dataframe\">\n",
       "  <thead>\n",
       "    <tr style=\"text-align: right;\">\n",
       "      <th></th>\n",
       "      <th>Glucose</th>\n",
       "      <th>BloodPressure</th>\n",
       "      <th>SkinThickness</th>\n",
       "      <th>Insulin</th>\n",
       "      <th>BMI</th>\n",
       "      <th>DiabetesPedigreeFunction</th>\n",
       "      <th>Age</th>\n",
       "    </tr>\n",
       "  </thead>\n",
       "  <tbody>\n",
       "    <tr>\n",
       "      <th>66</th>\n",
       "      <td>109</td>\n",
       "      <td>88</td>\n",
       "      <td>30</td>\n",
       "      <td>0</td>\n",
       "      <td>32.5</td>\n",
       "      <td>0.855</td>\n",
       "      <td>38</td>\n",
       "    </tr>\n",
       "  </tbody>\n",
       "</table>\n",
       "</div>"
      ],
      "text/plain": [
       "    Glucose  BloodPressure  SkinThickness  Insulin   BMI   \n",
       "66      109             88             30        0  32.5  \\\n",
       "\n",
       "    DiabetesPedigreeFunction  Age  \n",
       "66                     0.855   38  "
      ]
     },
     "execution_count": 22,
     "metadata": {},
     "output_type": "execute_result"
    }
   ],
   "source": [
    "x_test[25:26]"
   ]
  },
  {
   "cell_type": "code",
   "execution_count": 23,
   "id": "072a7bb7",
   "metadata": {},
   "outputs": [
    {
     "data": {
      "text/plain": [
       "array([0, 1], dtype=int64)"
      ]
     },
     "execution_count": 23,
     "metadata": {},
     "output_type": "execute_result"
    }
   ],
   "source": [
    "logistic_clf.classes_"
   ]
  },
  {
   "cell_type": "code",
   "execution_count": 24,
   "id": "f266df6c",
   "metadata": {},
   "outputs": [
    {
     "data": {
      "text/plain": [
       "array([[ 3.27549458e-02, -1.59326422e-02, -4.93564132e-03,\n",
       "        -3.57130489e-04,  9.32155238e-02,  1.06163174e+00,\n",
       "         3.54855178e-02]])"
      ]
     },
     "execution_count": 24,
     "metadata": {},
     "output_type": "execute_result"
    }
   ],
   "source": [
    "logistic_clf.coef_"
   ]
  },
  {
   "cell_type": "code",
   "execution_count": 25,
   "id": "b3d79768",
   "metadata": {},
   "outputs": [
    {
     "data": {
      "text/plain": [
       "7"
      ]
     },
     "execution_count": 25,
     "metadata": {},
     "output_type": "execute_result"
    }
   ],
   "source": [
    "logistic_clf.n_features_in_"
   ]
  },
  {
   "cell_type": "code",
   "execution_count": 26,
   "id": "e16395c2",
   "metadata": {},
   "outputs": [
    {
     "name": "stdout",
     "output_type": "stream",
     "text": [
      "Predicted Class by using 0.5 threshold is : Class 0\n"
     ]
    }
   ],
   "source": [
    "Glucose = 120\n",
    "BloodPressure = 90\n",
    "SkinThickness = 32\n",
    "Insulin = 0\n",
    "BMI = 35.34\n",
    "DiabetesPedigreeFunction = 0.867\n",
    "Age = 42\n",
    "\n",
    "test_array = np.array([Glucose,BloodPressure,SkinThickness,Insulin, BMI, DiabetesPedigreeFunction,\n",
    "                      Age], ndmin = 2)\n",
    "\n",
    "pred_class = logistic_clf.predict(test_array)[0]\n",
    "print(\"Predicted Class by using 0.5 threshold is : Class\",pred_class)\n"
   ]
  },
  {
   "cell_type": "code",
   "execution_count": 169,
   "id": "eb3dfe3f",
   "metadata": {},
   "outputs": [
    {
     "data": {
      "text/html": [
       "<div>\n",
       "<style scoped>\n",
       "    .dataframe tbody tr th:only-of-type {\n",
       "        vertical-align: middle;\n",
       "    }\n",
       "\n",
       "    .dataframe tbody tr th {\n",
       "        vertical-align: top;\n",
       "    }\n",
       "\n",
       "    .dataframe thead th {\n",
       "        text-align: right;\n",
       "    }\n",
       "</style>\n",
       "<table border=\"1\" class=\"dataframe\">\n",
       "  <thead>\n",
       "    <tr style=\"text-align: right;\">\n",
       "      <th></th>\n",
       "      <th>Glucose</th>\n",
       "      <th>BloodPressure</th>\n",
       "      <th>SkinThickness</th>\n",
       "      <th>Insulin</th>\n",
       "      <th>BMI</th>\n",
       "      <th>DiabetesPedigreeFunction</th>\n",
       "      <th>Age</th>\n",
       "      <th>Outcome</th>\n",
       "    </tr>\n",
       "  </thead>\n",
       "  <tbody>\n",
       "    <tr>\n",
       "      <th>0</th>\n",
       "      <td>148</td>\n",
       "      <td>50</td>\n",
       "      <td>35</td>\n",
       "      <td>0</td>\n",
       "      <td>33.6</td>\n",
       "      <td>0.627</td>\n",
       "      <td>50</td>\n",
       "      <td>1</td>\n",
       "    </tr>\n",
       "    <tr>\n",
       "      <th>1</th>\n",
       "      <td>85</td>\n",
       "      <td>66</td>\n",
       "      <td>29</td>\n",
       "      <td>0</td>\n",
       "      <td>26.6</td>\n",
       "      <td>0.351</td>\n",
       "      <td>31</td>\n",
       "      <td>0</td>\n",
       "    </tr>\n",
       "    <tr>\n",
       "      <th>2</th>\n",
       "      <td>183</td>\n",
       "      <td>64</td>\n",
       "      <td>0</td>\n",
       "      <td>0</td>\n",
       "      <td>23.3</td>\n",
       "      <td>0.672</td>\n",
       "      <td>52</td>\n",
       "      <td>1</td>\n",
       "    </tr>\n",
       "    <tr>\n",
       "      <th>3</th>\n",
       "      <td>150</td>\n",
       "      <td>66</td>\n",
       "      <td>23</td>\n",
       "      <td>94</td>\n",
       "      <td>28.1</td>\n",
       "      <td>0.167</td>\n",
       "      <td>21</td>\n",
       "      <td>0</td>\n",
       "    </tr>\n",
       "    <tr>\n",
       "      <th>4</th>\n",
       "      <td>150</td>\n",
       "      <td>40</td>\n",
       "      <td>35</td>\n",
       "      <td>168</td>\n",
       "      <td>43.1</td>\n",
       "      <td>2.288</td>\n",
       "      <td>33</td>\n",
       "      <td>1</td>\n",
       "    </tr>\n",
       "    <tr>\n",
       "      <th>...</th>\n",
       "      <td>...</td>\n",
       "      <td>...</td>\n",
       "      <td>...</td>\n",
       "      <td>...</td>\n",
       "      <td>...</td>\n",
       "      <td>...</td>\n",
       "      <td>...</td>\n",
       "      <td>...</td>\n",
       "    </tr>\n",
       "    <tr>\n",
       "      <th>763</th>\n",
       "      <td>101</td>\n",
       "      <td>76</td>\n",
       "      <td>48</td>\n",
       "      <td>180</td>\n",
       "      <td>32.9</td>\n",
       "      <td>0.171</td>\n",
       "      <td>63</td>\n",
       "      <td>0</td>\n",
       "    </tr>\n",
       "    <tr>\n",
       "      <th>764</th>\n",
       "      <td>122</td>\n",
       "      <td>70</td>\n",
       "      <td>27</td>\n",
       "      <td>0</td>\n",
       "      <td>36.8</td>\n",
       "      <td>0.340</td>\n",
       "      <td>27</td>\n",
       "      <td>0</td>\n",
       "    </tr>\n",
       "    <tr>\n",
       "      <th>765</th>\n",
       "      <td>121</td>\n",
       "      <td>72</td>\n",
       "      <td>23</td>\n",
       "      <td>112</td>\n",
       "      <td>26.2</td>\n",
       "      <td>0.245</td>\n",
       "      <td>30</td>\n",
       "      <td>0</td>\n",
       "    </tr>\n",
       "    <tr>\n",
       "      <th>766</th>\n",
       "      <td>126</td>\n",
       "      <td>60</td>\n",
       "      <td>0</td>\n",
       "      <td>0</td>\n",
       "      <td>30.1</td>\n",
       "      <td>0.349</td>\n",
       "      <td>47</td>\n",
       "      <td>1</td>\n",
       "    </tr>\n",
       "    <tr>\n",
       "      <th>767</th>\n",
       "      <td>93</td>\n",
       "      <td>70</td>\n",
       "      <td>31</td>\n",
       "      <td>0</td>\n",
       "      <td>30.4</td>\n",
       "      <td>0.315</td>\n",
       "      <td>23</td>\n",
       "      <td>0</td>\n",
       "    </tr>\n",
       "  </tbody>\n",
       "</table>\n",
       "<p>768 rows × 8 columns</p>\n",
       "</div>"
      ],
      "text/plain": [
       "     Glucose  BloodPressure  SkinThickness  Insulin   BMI  \\\n",
       "0        148             50             35        0  33.6   \n",
       "1         85             66             29        0  26.6   \n",
       "2        183             64              0        0  23.3   \n",
       "3        150             66             23       94  28.1   \n",
       "4        150             40             35      168  43.1   \n",
       "..       ...            ...            ...      ...   ...   \n",
       "763      101             76             48      180  32.9   \n",
       "764      122             70             27        0  36.8   \n",
       "765      121             72             23      112  26.2   \n",
       "766      126             60              0        0  30.1   \n",
       "767       93             70             31        0  30.4   \n",
       "\n",
       "     DiabetesPedigreeFunction  Age  Outcome  \n",
       "0                       0.627   50        1  \n",
       "1                       0.351   31        0  \n",
       "2                       0.672   52        1  \n",
       "3                       0.167   21        0  \n",
       "4                       2.288   33        1  \n",
       "..                        ...  ...      ...  \n",
       "763                     0.171   63        0  \n",
       "764                     0.340   27        0  \n",
       "765                     0.245   30        0  \n",
       "766                     0.349   47        1  \n",
       "767                     0.315   23        0  \n",
       "\n",
       "[768 rows x 8 columns]"
      ]
     },
     "execution_count": 169,
     "metadata": {},
     "output_type": "execute_result"
    }
   ],
   "source": [
    "df"
   ]
  },
  {
   "cell_type": "code",
   "execution_count": 171,
   "id": "0a13d950",
   "metadata": {},
   "outputs": [
    {
     "data": {
      "text/plain": [
       "<Axes: xlabel='Glucose', ylabel='BloodPressure'>"
      ]
     },
     "execution_count": 171,
     "metadata": {},
     "output_type": "execute_result"
    },
    {
     "data": {
      "image/png": "[encoded data removed]",
      "text/plain": [
       "<Figure size 640x480 with 1 Axes>"
      ]
     },
     "metadata": {},
     "output_type": "display_data"
    }
   ],
   "source": [
    "sns.scatterplot(x = df['Glucose'], y = df['BloodPressure'], hue = df['Outcome'])"
   ]
  },
  {
   "cell_type": "code",
   "execution_count": null,
   "id": "05b5841c",
   "metadata": {},
   "outputs": [],
   "source": []
  }
 ],
 "metadata": {
  "kernelspec": {
   "display_name": "Python 3 (ipykernel)",
   "language": "python",
   "name": "python3"
  },
  "language_info": {
   "codemirror_mode": {
    "name": "ipython",
    "version": 3
   },
   "file_extension": ".py",
   "mimetype": "text/x-python",
   "name": "python",
   "nbconvert_exporter": "python",
   "pygments_lexer": "ipython3",
   "version": "3.10.7"
  }
 },
 "nbformat": 4,
 "nbformat_minor": 5
}
